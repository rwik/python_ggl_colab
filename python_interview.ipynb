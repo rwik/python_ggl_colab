{
  "nbformat": 4,
  "nbformat_minor": 0,
  "metadata": {
    "colab": {
      "provenance": [],
      "authorship_tag": "ABX9TyPg6EyRXGqU2zgkAbcLmIn3",
      "include_colab_link": true
    },
    "kernelspec": {
      "name": "python3",
      "display_name": "Python 3"
    },
    "language_info": {
      "name": "python"
    }
  },
  "cells": [
    {
      "cell_type": "markdown",
      "metadata": {
        "id": "view-in-github",
        "colab_type": "text"
      },
      "source": [
        "<a href=\"https://colab.research.google.com/github/rwik/python_ggl_colab/blob/main/python_interview.ipynb\" target=\"_parent\"><img src=\"https://colab.research.google.com/assets/colab-badge.svg\" alt=\"Open In Colab\"/></a>"
      ]
    },
    {
      "cell_type": "code",
      "execution_count": 1,
      "metadata": {
        "colab": {
          "base_uri": "https://localhost:8080/"
        },
        "id": "taSAung8wPoB",
        "outputId": "1553f817-dd68-406f-a897-5fb461191c99"
      },
      "outputs": [
        {
          "output_type": "stream",
          "name": "stdout",
          "text": [
            "Test message\n"
          ]
        }
      ],
      "source": [
        "print(\"Test message\")"
      ]
    },
    {
      "cell_type": "code",
      "source": [
        "#digit extraction\n",
        "def digits(num):\n",
        "    result = []\n",
        "    while num>0 :\n",
        "      result.append(num%10)\n",
        "      num = num // 10 #use integer division //\n",
        "    print(result)\n",
        "    return\n",
        "\n",
        "digits(124)"
      ],
      "metadata": {
        "colab": {
          "base_uri": "https://localhost:8080/"
        },
        "id": "KoBF1B4O1dWY",
        "outputId": "2807840e-e57f-4264-ac71-b20c822aa7bb"
      },
      "execution_count": 3,
      "outputs": [
        {
          "output_type": "stream",
          "name": "stdout",
          "text": [
            "[4, 2, 1]\n"
          ]
        }
      ]
    },
    {
      "cell_type": "code",
      "source": [],
      "metadata": {
        "id": "ZFQZBcKX6KN1"
      },
      "execution_count": null,
      "outputs": []
    }
  ]
}